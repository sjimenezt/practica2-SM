{
 "cells": [
  {
   "cell_type": "markdown",
   "id": "7801209a-0593-4e79-a57e-31acf9994db7",
   "metadata": {},
   "source": [
    "# Sesión 3 de SM: Introducción al análisis de audio con Python"
   ]
  },
  {
   "cell_type": "markdown",
   "id": "164f169f-d223-4279-9bd2-adacdd381045",
   "metadata": {},
   "source": [
    "## Condigurar el repositorio de GitHub, conda y JupyterLab"
   ]
  },
  {
   "cell_type": "markdown",
   "id": "29638026-77f8-428e-a891-48c63607133e",
   "metadata": {},
   "source": [
    "* He creado un repositorio en github llamado practica2-SM y con el comando git clone lo clono como repostorio local para trabajar con el.\n",
    "* Con el comando conda create --name=audioConda creo mi entorno de conda y con conda env list compruebo que esta bien creado y lo activo con conda activate.\n",
    "* edito el .gitignore y añado la carpeta .ipynb_checkpoints/ para que la ignore.\n",
    "* Usamos el comando conda install -c conda-forge <package_name> para instalar Python 3.10, ipykernel y JupyterLab.\n",
    "* Añadimos el entorno de conda a los kernel de jupyterLab con python3 -m ipykernel install --user --name=<env_name>\n",
    "* Instalamos jupyterLab en el entorno de conda conda install -c conda-forge jupyterlab\n",
    "* Por ultimo Ejecutamos jupyterLab con el comando jupyter-lab y creamos un notebook vacio usando como kernel el entorno de conda \"audioconda\" creado anteriormente"
   ]
  },
  {
   "cell_type": "markdown",
   "id": "8b324584-50b5-40a4-a04d-026e5f767d20",
   "metadata": {},
   "source": [
    "## Análisis de audio con Python y jupyterLab"
   ]
  },
  {
   "cell_type": "markdown",
   "id": "b7277e5e-d7a0-4b85-97c4-8406f05a17be",
   "metadata": {},
   "source": [
    "### Importar librerias y modulos de python"
   ]
  },
  {
   "cell_type": "markdown",
   "id": "692140a2-4f0e-47eb-b626-ceb1510ff6c7",
   "metadata": {},
   "source": [
    "Importamos las librerias y modulos que vamos a utilizar de la siguiente forma"
   ]
  },
  {
   "cell_type": "code",
   "execution_count": null,
   "id": "6d36c2ba-1e54-4a24-9011-ba6e6119383f",
   "metadata": {},
   "outputs": [],
   "source": [
    "#import librosa\n",
    "from scipy.io import wavfile\n",
    "import IPython\n",
    "import os\n",
    "import numpy as np"
   ]
  },
  {
   "cell_type": "markdown",
   "id": "ac9cec54-ab01-4684-aac2-617144abacf4",
   "metadata": {},
   "source": [
    "### Especificamos los directorios de entrada salida"
   ]
  },
  {
   "cell_type": "markdown",
   "id": "8b0bdcb0-fbac-4a0a-b31a-d86202a37423",
   "metadata": {},
   "source": [
    "Aqui definiremos los directorios que ulitizaremos para almacenar los ficheros de audio con los que vamos a trabajar y donde almacenaremos los ficheros de audio que generaremos a lo largo de la práctica"
   ]
  },
  {
   "cell_type": "code",
   "execution_count": null,
   "id": "22dbfb24-e038-4fc7-a048-27c8da4b8b7a",
   "metadata": {},
   "outputs": [],
   "source": [
    "#directorio que utilizaremos\n",
    "cwd = os.getcwd()\n",
    "entrada_audio = os.path.join(cwd, os.path.join('audio', '_entrada'))#guardamos en la variable el path de la carpeta _entrada\n",
    "salida_audio = os.path.join(cwd, os.path.join('audio', '_salida'))#guardamos en la variable el path de la carpeta _salida\n",
    "print(f'Directorio con los audios de entrada: {entrada_audio}')\n",
    "print(f'Directorio donde guardaremos los audios generados: {salida_audio}\\n')"
   ]
  },
  {
   "cell_type": "markdown",
   "id": "16b3b9e8-0765-4ed8-9bb5-b8fc79940dba",
   "metadata": {},
   "source": [
    "### Cargar del archivo de audio estereo y mostrar sus caracteristicas"
   ]
  },
  {
   "cell_type": "markdown",
   "id": "7788e160-0d27-4767-9118-a23fa6f19a21",
   "metadata": {},
   "source": [
    "Utilizaremos un archivo de audio .wav en este caso"
   ]
  },
  {
   "cell_type": "code",
   "execution_count": null,
   "id": "0c8dd0aa-4379-4998-b481-3d134780e2c1",
   "metadata": {},
   "outputs": [],
   "source": [
    "#cargamos el archivo de audio\n",
    "filename = os.path.join(entrada_audio, 'game_of_thrones.wav')\n",
    "#Mostrar informacion (sonido estéreo)\n",
    "sample_rate, audio_data = wavfile.read(filename)\n",
    "print(f'Frecuencia de muestreo (sample rate): {sample_rate/1000} kHz')\n",
    "print('Datos de audio (estereo):')\n",
    "print(f'- Tamaño:     {audio_data.shape}')#Mostramos el numero de filas y columnas de la matriz\n",
    "print(f'- 1º canal:   {audio_data[:10, 0]}...')#Mostramos los 10 primeros elementos del vector correspondiente al canal 0 \n",
    "print(f'- 2º canal:   {audio_data[:10, 1]}...')#Mostramos los 10 primeros elementos del vector correspondiente al canal 1\n",
    "print(f'- Resolucion: {type(audio_data[0,0])}\\n')"
   ]
  },
  {
   "cell_type": "markdown",
   "id": "5a8bec5a-0542-4370-a502-295512a12b03",
   "metadata": {},
   "source": [
    "Vamos a escuchar el audio"
   ]
  },
  {
   "cell_type": "code",
   "execution_count": null,
   "id": "b6d24175-8c38-4a74-a818-4fbbc61c111d",
   "metadata": {},
   "outputs": [],
   "source": [
    "IPython.display.Audio(audio_data.T, rate=sample_rate)# .T se pasa únicamente si es audio estéreo."
   ]
  },
  {
   "cell_type": "markdown",
   "id": "07c2e455-25f9-4697-aa0f-574cbced7d23",
   "metadata": {},
   "source": [
    "### Convertir el archivo de audio estereo a mono"
   ]
  },
  {
   "cell_type": "markdown",
   "id": "137958e6-b45c-474c-8412-88937faa6a2b",
   "metadata": {},
   "source": [
    "Vamos a calcular por simplificacion la media por canal para obtener un sonido mono"
   ]
  },
  {
   "cell_type": "code",
   "execution_count": null,
   "id": "3df20c4d-aebd-4f9c-b5d1-930295874c03",
   "metadata": {},
   "outputs": [],
   "source": [
    "# Convertimos a mono mediante la media por canal (simplificacion).\n",
    "new_data_mono = audio_data.mean(axis=1)  #Hace la media de los dos canales de audio y convierte el audio de estereo a mono\n",
    "print('Nuevos datos de audio (mono):')\n",
    "print(f'- Nuevo tamaño: {new_data_mono.shape}')\n",
    "print(f'- Canal unico:  {new_data_mono[:5]}...')\n",
    "#Mantenemos la misma resolucion que en el audio estereo\n",
    "new_data_mono = new_data_mono.astype(np.int16)\n",
    "print(f'- Resolucion:   {type(new_data_mono[0])}\\n')"
   ]
  },
  {
   "cell_type": "markdown",
   "id": "db9b26ee-fedf-4171-9026-952e310d136c",
   "metadata": {},
   "source": [
    "Ahora guardaremos el archivo y lo reproduciremos\n"
   ]
  },
  {
   "cell_type": "code",
   "execution_count": null,
   "id": "75d5d529-d841-4ecd-8605-75e4eecfd103",
   "metadata": {},
   "outputs": [],
   "source": [
    "# Guardamos el archivo mono a un fichero de tipo wav utilizando wavfile.write .\n",
    "wavfile.write(\n",
    "    filename=os.path.join(salida_audio, 'game_of_thrones_mono.wav'),#guardamos el archivo de audio convertido a mono en la carpeta _salida\n",
    "    rate=sample_rate,\n",
    "    data=new_data_mono\n",
    ")\n",
    "#Añadimos el widget para reproducir el audio\n",
    "IPython.display.Audio(new_data_mono, rate=sample_rate)"
   ]
  },
  {
   "cell_type": "markdown",
   "id": "4943b93f-6e48-4b18-a365-b4d48cf4ae8c",
   "metadata": {},
   "source": [
    "Mostramos el tamaño de ambos archivos pra ver la difrencia"
   ]
  },
  {
   "cell_type": "code",
   "execution_count": null,
   "id": "4f7ab155-591b-4220-ac84-3e60c580a9d3",
   "metadata": {},
   "outputs": [],
   "source": [
    "!ls -sh audio/_entrada/game_of_thrones.wav\n",
    "!ls -sh audio/_salida/game_of_thrones_mono.wav"
   ]
  },
  {
   "cell_type": "markdown",
   "id": "8cda93fc-ca31-4f20-8a80-61fa756c997a",
   "metadata": {},
   "source": [
    "### Difrencia entre audio estéreo y mono "
   ]
  },
  {
   "cell_type": "markdown",
   "id": "7267d17b-c470-4b64-80b9-089735947d7e",
   "metadata": {},
   "source": [
    "El audio estereo tiene dos canales de audio distinto porque los que sale audio difrente, proporcionando una experiencia mas inversiva, mientras que el audio mono al ser la media de los dos canales estereos todo el sonido sale por el mismo canal, lo que produce que salga el mismo sonido por los dos altavoces de los auriculares."
   ]
  }
 ],
 "metadata": {
  "kernelspec": {
   "display_name": "audioconda",
   "language": "python",
   "name": "audioconda"
  },
  "language_info": {
   "codemirror_mode": {
    "name": "ipython",
    "version": 3
   },
   "file_extension": ".py",
   "mimetype": "text/x-python",
   "name": "python",
   "nbconvert_exporter": "python",
   "pygments_lexer": "ipython3",
   "version": "3.10.12"
  }
 },
 "nbformat": 4,
 "nbformat_minor": 5
}
